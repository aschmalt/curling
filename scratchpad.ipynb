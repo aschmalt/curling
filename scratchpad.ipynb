{
 "cells": [
  {
   "cell_type": "code",
   "execution_count": 2,
   "metadata": {},
   "outputs": [
    {
     "name": "stdout",
     "output_type": "stream",
     "text": [
      "(1, 2, 3, 4)\n"
     ]
    }
   ],
   "source": [
    "def a(*args):\n",
    "    print(args)\n",
    "\n",
    "a(*[1, 2, 3], 4)"
   ]
  },
  {
   "cell_type": "code",
   "execution_count": 3,
   "metadata": {},
   "outputs": [
    {
     "data": {
      "text/html": [
       "AtMost((aa, ab, ac, ad), 2)"
      ],
      "text/plain": [
       "AtMost((aa, ab, ac, ad), 2)"
      ]
     },
     "execution_count": 3,
     "metadata": {},
     "output_type": "execute_result"
    }
   ],
   "source": [
    "from z3 import Bools, Bool, And, AtMost, Solver\n",
    "\n",
    "def get_bool(i):\n",
    "    return Bool(f'a{i}')\n",
    "\n",
    "b = [get_bool(x) for x in 'abcd']\n",
    "# b = Bools('a b c d')\n",
    "f = AtMost(*b, 2)\n",
    "f"
   ]
  },
  {
   "cell_type": "code",
   "execution_count": 4,
   "metadata": {},
   "outputs": [
    {
     "data": {
      "text/html": [
       "<b>sat</b>"
      ],
      "text/plain": [
       "sat"
      ]
     },
     "execution_count": 4,
     "metadata": {},
     "output_type": "execute_result"
    }
   ],
   "source": [
    "s = Solver()\n",
    "s.add(f)\n",
    "s.check()"
   ]
  },
  {
   "cell_type": "code",
   "execution_count": 5,
   "metadata": {},
   "outputs": [],
   "source": [
    "m = s.model()"
   ]
  },
  {
   "cell_type": "code",
   "execution_count": 6,
   "metadata": {},
   "outputs": [
    {
     "name": "stdout",
     "output_type": "stream",
     "text": [
      "a => False\n",
      "b => True\n",
      "c => False\n",
      "d => True\n"
     ]
    }
   ],
   "source": [
    "for x in ['a', 'b', 'c', 'd']:\n",
    "    # y = get_bool(x)\n",
    "    y = Bool(f'a{x}')\n",
    "    print(f'{x} => {m.evaluate(y)}')"
   ]
  },
  {
   "cell_type": "code",
   "execution_count": 7,
   "metadata": {},
   "outputs": [
    {
     "data": {
      "text/html": [
       "[a = 8]"
      ],
      "text/plain": [
       "[a = 8]"
      ]
     },
     "execution_count": 7,
     "metadata": {},
     "output_type": "execute_result"
    }
   ],
   "source": [
    "import z3\n",
    "\n",
    "bv = z3.BitVec('a', 4)\n",
    "s = z3.Solver()\n",
    "s.add(z3.BV2Int(bv) == 8)\n",
    "assert s.check() == z3.sat\n",
    "m = s.model()\n",
    "m"
   ]
  },
  {
   "cell_type": "code",
   "execution_count": 8,
   "metadata": {},
   "outputs": [
    {
     "name": "stdout",
     "output_type": "stream",
     "text": [
      "[<__main__.G object at 0x000002067790B950>, <__main__.G object at 0x000002067791B090>, <__main__.G object at 0x0000020677919150>]\n"
     ]
    }
   ],
   "source": [
    "class G():\n",
    "    def __init__(self):\n",
    "        self.id = id(self)\n",
    "\n",
    "gs = [G() for x in range(3)]\n",
    "print(gs)"
   ]
  },
  {
   "cell_type": "code",
   "execution_count": 9,
   "metadata": {},
   "outputs": [
    {
     "name": "stdout",
     "output_type": "stream",
     "text": [
      "[2226799032656, 2226799095952, 2226799087952]\n"
     ]
    }
   ],
   "source": [
    "print([x.id for x in gs])"
   ]
  },
  {
   "cell_type": "code",
   "execution_count": 10,
   "metadata": {},
   "outputs": [
    {
     "name": "stdout",
     "output_type": "stream",
     "text": [
      "And(at-least(Not(And(BV2Int(k!0) == 0, BV2Int(k!0) == 0)),\n",
      "             Not(And(BV2Int(k!1) == 0, BV2Int(k!1) == 0)),\n",
      "             Not(And(BV2Int(k!2) == 0, BV2Int(k!2) == 0)),\n",
      "             Not(And(BV2Int(k!3) == 0, BV2Int(k!3) == 0)),\n",
      "             Not(And(BV2Int(k!4) == 0, BV2Int(k!4) == 0)),\n",
      "             Not(And(BV2Int(k!5) == 0, BV2Int(k!5) == 0))),\n",
      "    at-least(Not(And(BV2Int(k!0) == 0, BV2Int(k!0) == 1)),\n",
      "             Not(And(BV2Int(k!4) == 0, BV2Int(k!4) == 1)),\n",
      "             Not(And(BV2Int(k!1) == 0, BV2Int(k!1) == 1)),\n",
      "             Not(And(BV2Int(k!2) == 0, BV2Int(k!2) == 1)),\n",
      "             Not(And(BV2Int(k!3) == 0, BV2Int(k!3) == 1)),\n",
      "             Not(And(BV2Int(k!5) == 0, BV2Int(k!5) == 1))),\n",
      "    at-least(Not(And(BV2Int(k!0) == 0, BV2Int(k!0) == 2)),\n",
      "             Not(And(BV2Int(k!1) == 0, BV2Int(k!1) == 2)),\n",
      "             Not(And(BV2Int(k!2) == 0, BV2Int(k!2) == 2)),\n",
      "             Not(And(BV2Int(k!3) == 0, BV2Int(k!3) == 2)),\n",
      "             Not(And(BV2Int(k!4) == 0, BV2Int(k!4) == 2)),\n",
      "             Not(And(BV2Int(k!5) == 0, BV2Int(k!5) == 2))),\n",
      "    at-least(Not(And(BV2Int(k!0) == 1, BV2Int(k!0) == 0)),\n",
      "             Not(And(BV2Int(k!1) == 1, BV2Int(k!1) == 0)),\n",
      "             Not(And(BV2Int(k!2) == 1, BV2Int(k!2) == 0)),\n",
      "             Not(And(BV2Int(k!3) == 1, BV2Int(k!3) == 0)),\n",
      "             Not(And(BV2Int(k!4) == 1, BV2Int(k!4) == 0)),\n",
      "             Not(And(BV2Int(k!5) == 1, BV2Int(k!5) == 0))),\n",
      "    at-least(Not(And(BV2Int(k!0) == 1, BV2Int(k!0) == 1)),\n",
      "             Not(And(BV2Int(k!1) == 1, BV2Int(k!1) == 1)),\n",
      "             Not(And(BV2Int(k!2) == 1, BV2Int(k!2) == 1)),\n",
      "             Not(And(BV2Int(k!3) == 1, BV2Int(k!3) == 1)),\n",
      "             Not(And(BV2Int(k!4) == 1, BV2Int(k!4) == 1)),\n",
      "             Not(And(BV2Int(k!5) == 1, BV2Int(k!5) == 1))),\n",
      "    at-least(Not(And(BV2Int(k!0) == 1, BV2Int(k!0) == 2)),\n",
      "             Not(And(BV2Int(k!1) == 1, BV2Int(k!1) == 2)),\n",
      "             Not(And(BV2Int(k!2) == 1, BV2Int(k!2) == 2)),\n",
      "             Not(And(BV2Int(k!3) == 1, BV2Int(k!3) == 2)),\n",
      "             Not(And(BV2Int(k!4) == 1, BV2Int(k!4) == 2)),\n",
      "             Not(And(BV2Int(k!5) == 1, BV2Int(k!5) == 2))))\n",
      "sat\n",
      "1 2\n",
      "0 2\n",
      "1 0\n",
      "0 1\n",
      "0 0\n",
      "1 1\n"
     ]
    }
   ],
   "source": [
    "from z3 import *\n",
    "\n",
    "draws = [BitVec(x, 1) for x in range(6)]\n",
    "sheets = [BitVec(x, 2) for x in range(6)]\n",
    "\n",
    "slots = list()\n",
    "for d in range(2):\n",
    "    for s in range(3):\n",
    "          combos = [(BV2Int(draws[x]) == d,\n",
    "                BV2Int(sheets[x]) == s) for x in range(6)]\n",
    "          slots.append(AtMost(*[And(x) for x in combos], 1))\n",
    "# print(slots)\n",
    "\n",
    "fact = And(*slots)\n",
    "print(str(simplify(fact)))\n",
    "s = Solver()\n",
    "s.add(fact)\n",
    "s.add(And(*[BV2Int(x) < 2 for x in draws]))\n",
    "s.add(And(*[BV2Int(x) < 3 for x in sheets]))\n",
    "\n",
    "assert s.check() == sat\n",
    "print(s.check())\n",
    "m = s.model()\n",
    "for x in range(6):\n",
    "    print(m.evaluate(draws[x]), m.evaluate(sheets[x]))\n",
    "\n",
    "\n",
    "\n"
   ]
  },
  {
   "cell_type": "code",
   "execution_count": 12,
   "metadata": {},
   "outputs": [
    {
     "name": "stdout",
     "output_type": "stream",
     "text": [
      "[p = False, q = True, r = False]\n"
     ]
    }
   ],
   "source": [
    "p = Bool('p')\n",
    "q = Bool('q')\n",
    "r = Bool('r')\n",
    "solve(Implies(p, q), r == Not(q), Or(Not(p), r))"
   ]
  },
  {
   "cell_type": "code",
   "execution_count": 6,
   "metadata": {},
   "outputs": [
    {
     "name": "stdout",
     "output_type": "stream",
     "text": [
      "[562957857, 562957858, 562957859, 562957860, 562957861, 562957862, 562957863, 562957864, 562957865, 562957866, 562957867, 562957868, 562957869, 562957870, 562957871, 562957872, 562957873, 562957874, 562957875, 562957876, 562957877, 562957878, 562957879, 562957880, 562957881, 562957882, 562957883, 562957884, 562957885, 562957886, 562957887, 562957888, 562957889, 562957890, 562957891, 562957894, 562957904, 562957905, 562957906, 562957907, 562957908, 562957909, 562957910, 562957911, 562957912, 562957913, 562957915, 562957916, 562957917, 562957918, 562957919, 562957920, 562957921, 562957922, 562957923, 562957924, 562957925, 562957926, 562957927, 562957928, 562957929, 562957930, 562957931, 562957932, 562957933, 562957941, 562957943, 562957944, 562957945, 562957946, 562957947, 562957948, 562957949, 562957950, 562957951, 562957952, 562957954, 562957955]\n"
     ]
    }
   ],
   "source": [
    "import csv\n",
    "with open('event_ids.csv', 'r', encoding='utf-8') as fp:\n",
    "    table = csv.DictReader(fp)\n",
    "    ids = [int(x['Event_ID']) for x in table]\n",
    "\n",
    "ids.sort()\n",
    "print(ids)"
   ]
  }
 ],
 "metadata": {
  "kernelspec": {
   "display_name": ".venv",
   "language": "python",
   "name": "python3"
  },
  "language_info": {
   "codemirror_mode": {
    "name": "ipython",
    "version": 3
   },
   "file_extension": ".py",
   "mimetype": "text/x-python",
   "name": "python",
   "nbconvert_exporter": "python",
   "pygments_lexer": "ipython3",
   "version": "3.11.9"
  },
  "orig_nbformat": 4
 },
 "nbformat": 4,
 "nbformat_minor": 2
}
